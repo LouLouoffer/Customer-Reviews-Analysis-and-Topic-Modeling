{
  "cells": [
    {
      "cell_type": "markdown",
      "metadata": {
        "id": "view-in-github",
        "colab_type": "text"
      },
      "source": [
        "<a href=\"https://colab.research.google.com/github/LouLouoffer/Customer-Reviews-Analysis-and-Topic-Modeling/blob/main/ETL%2Bpipeline.ipynb\" target=\"_parent\"><img src=\"https://colab.research.google.com/assets/colab-badge.svg\" alt=\"Open In Colab\"/></a>"
      ]
    },
    {
      "cell_type": "markdown",
      "source": [
        "# Import"
      ],
      "metadata": {
        "id": "QKVtMsGAOhXy"
      }
    },
    {
      "cell_type": "code",
      "execution_count": null,
      "metadata": {
        "id": "gJr_9dXGpJ05"
      },
      "outputs": [],
      "source": [
        "!pip install -U -q PyDrive\n",
        "\n",
        "from pydrive.auth import GoogleAuth\n",
        "from pydrive.drive import GoogleDrive\n",
        "from google.colab import auth\n",
        "from oauth2client.client import GoogleCredentials\n",
        "\n",
        "auth.authenticate_user()\n",
        "gauth = GoogleAuth()\n",
        "gauth.credentials = GoogleCredentials.get_application_default()\n",
        "drive = GoogleDrive(gauth)\n",
        "#https://drive.google.com/file/d/1MFLww8ziLlIrKi6q8YU5_EXDgiyEi8_p/view?usp=share_link\n",
        "file = drive.CreateFile({'id':'1MFLww8ziLlIrKi6q8YU5_EXDgiyEi8_p'}) # replace the id with id of file you want to access\n",
        "file.GetContentFile('watch_reviews.zip')  # tab-separated"
      ]
    },
    {
      "cell_type": "code",
      "source": [
        "import numpy as np\n",
        "import pandas as pd\n",
        "\n",
        "import glob\n",
        "import xml.etree.ElementTree as ET\n",
        "from datetime import datetime\n",
        "\n",
        "import nltk\n",
        "from sklearn.feature_extraction.text import TfidfVectorizer\n",
        "import matplotlib.pyplot as plt"
      ],
      "metadata": {
        "id": "bMAawByqED44"
      },
      "execution_count": null,
      "outputs": []
    },
    {
      "cell_type": "code",
      "source": [
        "!unzip watch_reviews.zip"
      ],
      "metadata": {
        "id": "zeNpNeDMEJWS",
        "outputId": "bfc17d08-241f-4f5c-9dc1-9e1f5f129604",
        "colab": {
          "base_uri": "https://localhost:8080/"
        }
      },
      "execution_count": null,
      "outputs": [
        {
          "output_type": "stream",
          "name": "stdout",
          "text": [
            "Archive:  watch_reviews.zip\n",
            "   creating: watch_reviews/\n",
            "  inflating: watch_reviews/.DS_Store  \n",
            "  inflating: __MACOSX/watch_reviews/._.DS_Store  \n",
            "  inflating: watch_reviews/watch_reviews2.tsv  \n",
            "  inflating: __MACOSX/watch_reviews/._watch_reviews2.tsv  \n",
            "  inflating: watch_reviews/watch_reviews1.tsv  \n",
            "  inflating: __MACOSX/watch_reviews/._watch_reviews1.tsv  \n",
            "  inflating: watch_reviews/watch_reviews1.csv  \n",
            "  inflating: __MACOSX/watch_reviews/._watch_reviews1.csv  \n",
            "  inflating: watch_reviews/watch_reviews2.csv  \n",
            "  inflating: __MACOSX/watch_reviews/._watch_reviews2.csv  \n"
          ]
        }
      ]
    },
    {
      "cell_type": "code",
      "source": [
        "tmpfile    = \"watch_reviews_temp.tmp\"               # store all extracted data\n",
        "\n",
        "logfile    = \"watch_reviews_logfile.txt\"            # all event logs will be stored\n",
        "\n",
        "targetfile = \"watch_reviews_transformed_data.csv\"   # transformed data is stored"
      ],
      "metadata": {
        "id": "oPWVDizLEiEX"
      },
      "execution_count": null,
      "outputs": []
    },
    {
      "cell_type": "code",
      "source": [
        "def extract_from_tsv(file_to_process):\n",
        "    dataframe = pd.read_csv(file_to_process, sep='\\t', error_bad_lines=False)\n",
        "    return dataframe\n",
        "\n",
        "def extract_from_json(file_to_process):\n",
        "    dataframe = pd.read_json(file_to_process,lines=True)\n",
        "    return dataframe\n",
        "\n",
        "def extract_from_csv(file_to_process):\n",
        "    dataframe = pd.read_csv(file_to_process)\n",
        "    return dataframe"
      ],
      "metadata": {
        "id": "jDwLXE-VErtx"
      },
      "execution_count": null,
      "outputs": []
    },
    {
      "cell_type": "code",
      "source": [
        "def extract():\n",
        "      extracted_data = pd.DataFrame(columns=['marketplace','customer_id','review_id','product_id','product_parent','product_title','product_category','star_rating','helpful_votes','total_votes','vine','verified_purchase','review_headline','review_body','review_date'])\n",
        "    #for csv files\n",
        "      for csvfile in glob.glob(\"watch_reviews/*.csv\"):\n",
        "          extracted_data = extracted_data.append(extract_from_csv(csvfile), ignore_index=True)\n",
        "    #for json files\n",
        "      for jsonfile in glob.glob(\"watch_reviews/*.json\"):\n",
        "          extracted_data = extracted_data.append(extract_from_json(jsonfile), ignore_index=True)\n",
        "    #for tsv files\n",
        "      for csvfile in glob.glob(\"watch_reviews/*.tsv\"):\n",
        "          extracted_data = extracted_data.append(extract_from_tsv(csvfile), ignore_index=True)\n",
        "      return extracted_data"
      ],
      "metadata": {
        "id": "4xCqcMdUEwKZ"
      },
      "execution_count": null,
      "outputs": []
    },
    {
      "cell_type": "code",
      "source": [
        "extract()"
      ],
      "metadata": {
        "id": "rVax9V8OEzjq"
      },
      "execution_count": null,
      "outputs": []
    },
    {
      "cell_type": "markdown",
      "source": [
        "# Transfrom"
      ],
      "metadata": {
        "id": "SLDU2LCnKdR-"
      }
    },
    {
      "cell_type": "code",
      "source": [
        "def transform(data):\n",
        "       data.dropna(subset=['review_body'],inplace=True)\n",
        "       data.reset_index(inplace=True, drop=True)\n",
        "       return data"
      ],
      "metadata": {
        "id": "Hla1ddawKOAq"
      },
      "execution_count": null,
      "outputs": []
    },
    {
      "cell_type": "markdown",
      "source": [
        "# NLP model pipeline"
      ],
      "metadata": {
        "id": "VwwjR_wRP5pn"
      }
    },
    {
      "cell_type": "code",
      "source": [
        "data = data.loc[:999, 'review_body'].tolist()\n",
        "data = transform(df)"
      ],
      "metadata": {
        "id": "sXwRLDIJOIus"
      },
      "execution_count": null,
      "outputs": []
    },
    {
      "cell_type": "code",
      "source": [
        "    # Use nltk's English stopwords.\n",
        "    stopwords = nltk.corpus.stopwords.words('english') #stopwords.append(\"n't\")\n",
        "    stopwords.append(\"'s\")\n",
        "    stopwords.append(\"'m\")\n",
        "    stopwords.append(\"br\") #html <br>\n",
        "    stopwords.append(\"watch\")"
      ],
      "metadata": {
        "id": "Z1wdH7qn77r2"
      },
      "execution_count": null,
      "outputs": []
    },
    {
      "cell_type": "code",
      "source": [
        "import nltk\n",
        "nltk.download('stopwords')\n",
        "from nltk.stem.snowball import SnowballStemmer\n",
        "# from nltk.stem import WordNetLemmatizer\n",
        "\n",
        "stemmer = SnowballStemmer(\"english\")\n",
        "\n",
        "# tokenization and stemming\n",
        "def tokenization_and_stemming(text):\n",
        "    tokens = []\n",
        "    # checks if each token in tokens is a stop word,if it is not a stop word, the token is converted to lowercase and added to a new list:\n",
        "    for word in nltk.word_tokenize(text):\n",
        "        if word.lower() not in stopwords:\n",
        "            tokens.append(word.lower())\n",
        "\n",
        "    filtered_tokens = []\n",
        "\n",
        "    # filter out any tokens not containing letters (e.g., numeric tokens, raw punctuation)\n",
        "    for token in tokens:\n",
        "        if token.isalpha():\n",
        "            filtered_tokens.append(token)\n",
        "\n",
        "    # stemming\n",
        "    stems = [stemmer.stem(t) for t in filtered_tokens]\n",
        "    return stems"
      ],
      "metadata": {
        "id": "FOHdGimfOFTf",
        "outputId": "de67afb9-0581-4fb7-f9d8-edd476636a25",
        "colab": {
          "base_uri": "https://localhost:8080/"
        }
      },
      "execution_count": null,
      "outputs": [
        {
          "output_type": "stream",
          "name": "stderr",
          "text": [
            "[nltk_data] Downloading package stopwords to /root/nltk_data...\n",
            "[nltk_data]   Package stopwords is already up-to-date!\n"
          ]
        }
      ]
    },
    {
      "cell_type": "code",
      "source": [
        "from sklearn.pipeline import Pipeline\n",
        "from sklearn.cluster import KMeans\n",
        "def build_model():\n",
        "\n",
        "    model_pipeline =  Pipeline([\n",
        "        ('tfidf', TfidfVectorizer(max_df=0.99, max_features=1000,\n",
        "                                 min_df=0.005, stop_words='english',\n",
        "                                 use_idf=True, tokenizer=tokenization_and_stemming, ngram_range=(1,2))),\n",
        "        ('kmeans', KMeans(n_clusters = 5))\n",
        "    ])\n",
        "    return model_pipeline\n"
      ],
      "metadata": {
        "id": "VxDqiksEXobG"
      },
      "execution_count": null,
      "outputs": []
    },
    {
      "cell_type": "code",
      "source": [
        "def model_result(data):\n",
        "  feature_names = model.named_steps['tfidf'].get_feature_names_out()\n",
        "\n",
        "  # Get the cluster centers\n",
        "  cluster_centers = model.named_steps['kmeans'].cluster_centers_\n",
        "\n",
        "  # Get the top n features for each cluster\n",
        "  n = 10\n",
        "  for i, center in enumerate(cluster_centers):\n",
        "      print(f\"Cluster {i}:\")\n",
        "      top_features_idx = center.argsort()[::-1][:n]\n",
        "      top_features = [feature_names[idx] for idx in top_features_idx]\n",
        "      print(top_features)"
      ],
      "metadata": {
        "id": "iX5onD7HL6HA"
      },
      "execution_count": null,
      "outputs": []
    },
    {
      "cell_type": "code",
      "source": [
        "model = build_model()\n",
        "model.fit(data)"
      ],
      "metadata": {
        "id": "qftnTY1mNPk8",
        "outputId": "d1b65bf1-e6d7-49eb-c222-366fe0a20bdb",
        "colab": {
          "base_uri": "https://localhost:8080/",
          "height": 204
        }
      },
      "execution_count": null,
      "outputs": [
        {
          "output_type": "execute_result",
          "data": {
            "text/plain": [
              "Pipeline(steps=[('tfidf',\n",
              "                 TfidfVectorizer(max_df=0.99, max_features=1000, min_df=0.005,\n",
              "                                 ngram_range=(1, 2), stop_words='english',\n",
              "                                 tokenizer=<function tokenization_and_stemming at 0x7f11c41765f0>)),\n",
              "                ('kmeans', KMeans(n_clusters=5))])"
            ],
            "text/html": [
              "<style>#sk-container-id-11 {color: black;background-color: white;}#sk-container-id-11 pre{padding: 0;}#sk-container-id-11 div.sk-toggleable {background-color: white;}#sk-container-id-11 label.sk-toggleable__label {cursor: pointer;display: block;width: 100%;margin-bottom: 0;padding: 0.3em;box-sizing: border-box;text-align: center;}#sk-container-id-11 label.sk-toggleable__label-arrow:before {content: \"▸\";float: left;margin-right: 0.25em;color: #696969;}#sk-container-id-11 label.sk-toggleable__label-arrow:hover:before {color: black;}#sk-container-id-11 div.sk-estimator:hover label.sk-toggleable__label-arrow:before {color: black;}#sk-container-id-11 div.sk-toggleable__content {max-height: 0;max-width: 0;overflow: hidden;text-align: left;background-color: #f0f8ff;}#sk-container-id-11 div.sk-toggleable__content pre {margin: 0.2em;color: black;border-radius: 0.25em;background-color: #f0f8ff;}#sk-container-id-11 input.sk-toggleable__control:checked~div.sk-toggleable__content {max-height: 200px;max-width: 100%;overflow: auto;}#sk-container-id-11 input.sk-toggleable__control:checked~label.sk-toggleable__label-arrow:before {content: \"▾\";}#sk-container-id-11 div.sk-estimator input.sk-toggleable__control:checked~label.sk-toggleable__label {background-color: #d4ebff;}#sk-container-id-11 div.sk-label input.sk-toggleable__control:checked~label.sk-toggleable__label {background-color: #d4ebff;}#sk-container-id-11 input.sk-hidden--visually {border: 0;clip: rect(1px 1px 1px 1px);clip: rect(1px, 1px, 1px, 1px);height: 1px;margin: -1px;overflow: hidden;padding: 0;position: absolute;width: 1px;}#sk-container-id-11 div.sk-estimator {font-family: monospace;background-color: #f0f8ff;border: 1px dotted black;border-radius: 0.25em;box-sizing: border-box;margin-bottom: 0.5em;}#sk-container-id-11 div.sk-estimator:hover {background-color: #d4ebff;}#sk-container-id-11 div.sk-parallel-item::after {content: \"\";width: 100%;border-bottom: 1px solid gray;flex-grow: 1;}#sk-container-id-11 div.sk-label:hover label.sk-toggleable__label {background-color: #d4ebff;}#sk-container-id-11 div.sk-serial::before {content: \"\";position: absolute;border-left: 1px solid gray;box-sizing: border-box;top: 0;bottom: 0;left: 50%;z-index: 0;}#sk-container-id-11 div.sk-serial {display: flex;flex-direction: column;align-items: center;background-color: white;padding-right: 0.2em;padding-left: 0.2em;position: relative;}#sk-container-id-11 div.sk-item {position: relative;z-index: 1;}#sk-container-id-11 div.sk-parallel {display: flex;align-items: stretch;justify-content: center;background-color: white;position: relative;}#sk-container-id-11 div.sk-item::before, #sk-container-id-11 div.sk-parallel-item::before {content: \"\";position: absolute;border-left: 1px solid gray;box-sizing: border-box;top: 0;bottom: 0;left: 50%;z-index: -1;}#sk-container-id-11 div.sk-parallel-item {display: flex;flex-direction: column;z-index: 1;position: relative;background-color: white;}#sk-container-id-11 div.sk-parallel-item:first-child::after {align-self: flex-end;width: 50%;}#sk-container-id-11 div.sk-parallel-item:last-child::after {align-self: flex-start;width: 50%;}#sk-container-id-11 div.sk-parallel-item:only-child::after {width: 0;}#sk-container-id-11 div.sk-dashed-wrapped {border: 1px dashed gray;margin: 0 0.4em 0.5em 0.4em;box-sizing: border-box;padding-bottom: 0.4em;background-color: white;}#sk-container-id-11 div.sk-label label {font-family: monospace;font-weight: bold;display: inline-block;line-height: 1.2em;}#sk-container-id-11 div.sk-label-container {text-align: center;}#sk-container-id-11 div.sk-container {/* jupyter's `normalize.less` sets `[hidden] { display: none; }` but bootstrap.min.css set `[hidden] { display: none !important; }` so we also need the `!important` here to be able to override the default hidden behavior on the sphinx rendered scikit-learn.org. See: https://github.com/scikit-learn/scikit-learn/issues/21755 */display: inline-block !important;position: relative;}#sk-container-id-11 div.sk-text-repr-fallback {display: none;}</style><div id=\"sk-container-id-11\" class=\"sk-top-container\"><div class=\"sk-text-repr-fallback\"><pre>Pipeline(steps=[(&#x27;tfidf&#x27;,\n",
              "                 TfidfVectorizer(max_df=0.99, max_features=1000, min_df=0.005,\n",
              "                                 ngram_range=(1, 2), stop_words=&#x27;english&#x27;,\n",
              "                                 tokenizer=&lt;function tokenization_and_stemming at 0x7f11c41765f0&gt;)),\n",
              "                (&#x27;kmeans&#x27;, KMeans(n_clusters=5))])</pre><b>In a Jupyter environment, please rerun this cell to show the HTML representation or trust the notebook. <br />On GitHub, the HTML representation is unable to render, please try loading this page with nbviewer.org.</b></div><div class=\"sk-container\" hidden><div class=\"sk-item sk-dashed-wrapped\"><div class=\"sk-label-container\"><div class=\"sk-label sk-toggleable\"><input class=\"sk-toggleable__control sk-hidden--visually\" id=\"sk-estimator-id-31\" type=\"checkbox\" ><label for=\"sk-estimator-id-31\" class=\"sk-toggleable__label sk-toggleable__label-arrow\">Pipeline</label><div class=\"sk-toggleable__content\"><pre>Pipeline(steps=[(&#x27;tfidf&#x27;,\n",
              "                 TfidfVectorizer(max_df=0.99, max_features=1000, min_df=0.005,\n",
              "                                 ngram_range=(1, 2), stop_words=&#x27;english&#x27;,\n",
              "                                 tokenizer=&lt;function tokenization_and_stemming at 0x7f11c41765f0&gt;)),\n",
              "                (&#x27;kmeans&#x27;, KMeans(n_clusters=5))])</pre></div></div></div><div class=\"sk-serial\"><div class=\"sk-item\"><div class=\"sk-estimator sk-toggleable\"><input class=\"sk-toggleable__control sk-hidden--visually\" id=\"sk-estimator-id-32\" type=\"checkbox\" ><label for=\"sk-estimator-id-32\" class=\"sk-toggleable__label sk-toggleable__label-arrow\">TfidfVectorizer</label><div class=\"sk-toggleable__content\"><pre>TfidfVectorizer(max_df=0.99, max_features=1000, min_df=0.005,\n",
              "                ngram_range=(1, 2), stop_words=&#x27;english&#x27;,\n",
              "                tokenizer=&lt;function tokenization_and_stemming at 0x7f11c41765f0&gt;)</pre></div></div></div><div class=\"sk-item\"><div class=\"sk-estimator sk-toggleable\"><input class=\"sk-toggleable__control sk-hidden--visually\" id=\"sk-estimator-id-33\" type=\"checkbox\" ><label for=\"sk-estimator-id-33\" class=\"sk-toggleable__label sk-toggleable__label-arrow\">KMeans</label><div class=\"sk-toggleable__content\"><pre>KMeans(n_clusters=5)</pre></div></div></div></div></div></div></div>"
            ]
          },
          "metadata": {},
          "execution_count": 174
        }
      ]
    },
    {
      "cell_type": "code",
      "source": [
        "model_result(data)"
      ],
      "metadata": {
        "id": "h92IAchOOUxp",
        "outputId": "b840b661-3821-4e5b-ebc3-8c6bddd450c8",
        "colab": {
          "base_uri": "https://localhost:8080/"
        }
      },
      "execution_count": null,
      "outputs": [
        {
          "output_type": "stream",
          "name": "stdout",
          "text": [
            "Cluster 0:\n",
            "['excel', 'product', 'good product', 'product recommend', 'recommend', 'good', 'thank', 'condit', 'qualiti', 'high']\n",
            "Cluster 1:\n",
            "['like', 'band', 'nice', 'look', 'perfect', 'time', 'work', 'beauti', 'love', 'wear']\n",
            "Cluster 2:\n",
            "['love', 'nice', 'husband', 'husband love', 'daughter', 'daughter love', 'beauti love', 'classi', 'beauti', 'everyth']\n",
            "Cluster 3:\n",
            "['great', 'look', 'great look', 'look great', 'great price', 'work', 'price', 'thank', 'work great', 'qualiti']\n",
            "Cluster 4:\n",
            "['good', 'nice', 'look', 'look good', 'good qualiti', 'price', 'qualiti', 'good look', 'good price', 'time']\n"
          ]
        }
      ]
    },
    {
      "cell_type": "code",
      "source": [
        "'''\n",
        "from sklearn.pipeline import Pipeline\n",
        "from sklearn.cluster import KMeans\n",
        "pipeline = Pipeline([\n",
        "    ('tfidf', TfidfVectorizer(max_df=0.99, max_features=1000, min_df=0.01, stop_words='english', use_idf=True,\n",
        "                              tokenizer=tokenization_and_stemming, ngram_range=(1,3))),\n",
        "    ('kmeans', KMeans(n_clusters=5))\n",
        "])\n",
        "\n",
        "# Fit the pipeline on the corpus\n",
        "pipeline.fit(data)\n",
        "'''"
      ],
      "metadata": {
        "id": "H5xWVOT8dzCF"
      },
      "execution_count": null,
      "outputs": []
    },
    {
      "cell_type": "code",
      "source": [
        "'''\n",
        "feature_names = pipeline.named_steps['tfidf'].get_feature_names_out()\n",
        "\n",
        "# Get the cluster centers\n",
        "cluster_centers = pipeline.named_steps['kmeans'].cluster_centers_\n",
        "\n",
        "# Get the top n features for each cluster\n",
        "n = 10\n",
        "for i, center in enumerate(cluster_centers):\n",
        "    print(f\"Cluster {i}:\")\n",
        "    top_features_idx = center.argsort()[::-1][:n]\n",
        "    top_features = [feature_names[idx] for idx in top_features_idx]\n",
        "    print(top_features)\n",
        "'''"
      ],
      "metadata": {
        "id": "XfbJYMDIJqUe"
      },
      "execution_count": null,
      "outputs": []
    },
    {
      "cell_type": "markdown",
      "source": [
        "# Loading and Logging"
      ],
      "metadata": {
        "id": "hSNlOyzfO4Jo"
      }
    },
    {
      "cell_type": "code",
      "source": [
        "def load(targetfile,data_to_load):\n",
        "    data_to_load.to_csv(targetfile)"
      ],
      "metadata": {
        "id": "foRCEDonPJ_0"
      },
      "execution_count": null,
      "outputs": []
    },
    {
      "cell_type": "code",
      "source": [
        "from datetime import datetime\n",
        "def log(message):\n",
        "    timestamp_format = '%H:%M:%S-%h-%d-%Y'\n",
        "    #Hour-Minute-Second-MonthName-Day-Year\n",
        "    now = datetime.now() # get current timestamp\n",
        "    timestamp = now.strftime(timestamp_format)\n",
        "    with open(\"watch_reviews.txt\",\"a\") as f: f.write(timestamp + ',' + message + 'n')"
      ],
      "metadata": {
        "id": "IaEiqjlKPOd1"
      },
      "execution_count": null,
      "outputs": []
    },
    {
      "cell_type": "markdown",
      "source": [
        "# Running ETL Process"
      ],
      "metadata": {
        "id": "hZ7NJcnWPrUm"
      }
    },
    {
      "cell_type": "code",
      "source": [
        "log(\"ETL Job Started\")"
      ],
      "metadata": {
        "id": "ixPXLED8PsEh"
      },
      "execution_count": null,
      "outputs": []
    },
    {
      "cell_type": "code",
      "source": [
        "log(\"Extract phase Started\")\n",
        "extracted_data = extract()\n",
        "log(\"Extract phase Ended\")"
      ],
      "metadata": {
        "id": "LjUnKgSmPyYZ",
        "outputId": "13620dc4-6889-49a7-dc1a-79d0e14fe962",
        "colab": {
          "base_uri": "https://localhost:8080/"
        }
      },
      "execution_count": null,
      "outputs": [
        {
          "output_type": "stream",
          "name": "stderr",
          "text": [
            "<ipython-input-50-1bffda4ecca4>:5: FutureWarning: The frame.append method is deprecated and will be removed from pandas in a future version. Use pandas.concat instead.\n",
            "  extracted_data = extracted_data.append(extract_from_csv(csvfile), ignore_index=True)\n",
            "<ipython-input-50-1bffda4ecca4>:5: FutureWarning: The frame.append method is deprecated and will be removed from pandas in a future version. Use pandas.concat instead.\n",
            "  extracted_data = extracted_data.append(extract_from_csv(csvfile), ignore_index=True)\n",
            "<ipython-input-49-38a7dbb503bc>:2: FutureWarning: The error_bad_lines argument has been deprecated and will be removed in a future version. Use on_bad_lines in the future.\n",
            "\n",
            "\n",
            "  dataframe = pd.read_csv(file_to_process, sep='\\t', error_bad_lines=False)\n",
            "<ipython-input-50-1bffda4ecca4>:11: FutureWarning: The frame.append method is deprecated and will be removed from pandas in a future version. Use pandas.concat instead.\n",
            "  extracted_data = extracted_data.append(extract_from_tsv(csvfile), ignore_index=True)\n",
            "<ipython-input-49-38a7dbb503bc>:2: FutureWarning: The error_bad_lines argument has been deprecated and will be removed in a future version. Use on_bad_lines in the future.\n",
            "\n",
            "\n",
            "  dataframe = pd.read_csv(file_to_process, sep='\\t', error_bad_lines=False)\n",
            "<ipython-input-50-1bffda4ecca4>:11: FutureWarning: The frame.append method is deprecated and will be removed from pandas in a future version. Use pandas.concat instead.\n",
            "  extracted_data = extracted_data.append(extract_from_tsv(csvfile), ignore_index=True)\n"
          ]
        }
      ]
    },
    {
      "cell_type": "code",
      "source": [
        "transformed_data = transform(extracted_data)\n",
        "log(\"Transform phase Ended\")"
      ],
      "metadata": {
        "id": "D0tM2Ap1QBzZ"
      },
      "execution_count": null,
      "outputs": []
    },
    {
      "cell_type": "code",
      "source": [
        "log(\"Load phase Started\")\n",
        "load(targetfile,transformed_data)\n",
        "log(\"Load phase Ended\")"
      ],
      "metadata": {
        "id": "KpPWNSl9QUx1"
      },
      "execution_count": null,
      "outputs": []
    },
    {
      "cell_type": "code",
      "source": [
        "log(\"ETL Job Ended\")"
      ],
      "metadata": {
        "id": "09QGlDDRQXL3"
      },
      "execution_count": null,
      "outputs": []
    }
  ],
  "metadata": {
    "colab": {
      "provenance": [],
      "include_colab_link": true
    },
    "kernelspec": {
      "display_name": "Python 3",
      "name": "python3"
    }
  },
  "nbformat": 4,
  "nbformat_minor": 0
}